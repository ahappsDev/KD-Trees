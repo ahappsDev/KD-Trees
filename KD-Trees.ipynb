{
 "cells": [
  {
   "cell_type": "code",
   "execution_count": 1,
   "metadata": {},
   "outputs": [],
   "source": [
    "import pandas as pd\n",
    "import numpy as np\n",
    "import math\n",
    "import matplotlib.pyplot as plt\n",
    "import seaborn as sns\n",
    "from  scipy.spatial import Delaunay\n",
    "from scipy.spatial import voronoi_plot_2d, Voronoi\n",
    "import statistics\n",
    "sns.set_style('darkgrid')"
   ]
  },
  {
   "cell_type": "code",
   "execution_count": 2,
   "metadata": {},
   "outputs": [],
   "source": [
    "class Kd_tree:\n",
    "    \n",
    "    def __init__(self, points):\n",
    "        '''Constructor'''\n",
    "        self.points = points\n",
    "        self.lines = []\n",
    "        self.nodes = []\n",
    "        \n",
    "        if len(points) < 2:\n",
    "            print (\"Error: There must be at least 2 points\")\n",
    "        \n",
    "    \n",
    "    def kd_tree_build(self, draw= False, pts=[], depth = 0, last_point = [0,0]):\n",
    "        '''\n",
    "        Build Kd-tree.\n",
    "\n",
    "        Args:\n",
    "            draw (boolean): Indicates if the steps are drawn\n",
    "            pts (array): Points.\n",
    "            index (int): Current depth.\n",
    "            last_point (array): Previous point\n",
    "        Returns:\n",
    "            [array]: Remaining points.\n",
    "        '''\n",
    "        left = []\n",
    "        right = []\n",
    "        final_points = []\n",
    "        index = depth%2\n",
    "        \n",
    "        #Initialize first iteration\n",
    "        if not pts:\n",
    "            pts = self.points\n",
    "\n",
    "        #End if it's a leaf\n",
    "        if len(pts) < 2 :\n",
    "            return pts\n",
    "\n",
    "        #Split points\n",
    "        left, right, middle_point = self.split_points(pts, index, last_point)\n",
    "\n",
    "        #Update lines of draw\n",
    "        increment = 1.3\n",
    "        if not index:\n",
    "            if middle_point[1] < last_point[1]:\n",
    "                increment = 0.7\n",
    "            self.lines.append([middle_point[0], last_point[1]])\n",
    "            self.lines.append([middle_point[0], middle_point[1]*increment])\n",
    "        else:\n",
    "            if middle_point[0] < last_point[0]:\n",
    "                increment = 0.7\n",
    "            self.lines.append([last_point[0], middle_point[1]])\n",
    "            self.lines.append([middle_point[0]*increment, middle_point[1]])\n",
    "\n",
    "        #Draw step if indicated\n",
    "        if draw:\n",
    "            self.draw()\n",
    "        \n",
    "        #Recursively traverse the left and right branch\n",
    "        final_points.append(self.kd_tree_build(draw, left, depth+1, middle_point))\n",
    "        final_points.append(self.kd_tree_build(draw, right, depth+1, middle_point))\n",
    "    \n",
    "        #Update tree nodes\n",
    "        self.nodes = final_points\n",
    "         \n",
    "        return final_points\n",
    "    \n",
    "    \n",
    "    def split_points(self, pts, index, last_point):\n",
    "        '''\n",
    "        Split the points into left and right.\n",
    "\n",
    "        Args:\n",
    "            pts (array): Points.\n",
    "            index (int): It represents if the points are divided according to x or y.\n",
    "            last_point (array): Previous point\n",
    "        Returns:\n",
    "            [array]: Left points.\n",
    "            [array]: Right points.\n",
    "            [array]: Middle point.\n",
    "        '''\n",
    "        left = []\n",
    "        right = []\n",
    "        \n",
    "        #Calculation of the median\n",
    "        x = [p[index] for p in pts]\n",
    "        median = statistics.median(x)\n",
    "\n",
    "        #Check that the first point to compare is not the previous one\n",
    "        if not pts[0] == last_point:\n",
    "            middle_point = pts[0]\n",
    "            diff_m = abs(middle_point[index]+(median*(-1)))\n",
    "        else:\n",
    "            middle_point = pts[1]\n",
    "            diff_m = abs(middle_point[index]+(median*(-1)))\n",
    "\n",
    "        #We take the midpoint\n",
    "        for p in pts:\n",
    "            diff_p = abs(p[index]+(median*(-1)))\n",
    "\n",
    "            if(diff_p < diff_m and not p == last_point):\n",
    "                middle_point = p\n",
    "                diff_m = diff_p\n",
    "\n",
    "        #Split the points into left and right\n",
    "        if len(pts) == 2 and pts[0][index] < [1][index]:\n",
    "            left = [pts[0]]\n",
    "            right = [pts[1]]\n",
    "        else:\n",
    "            if len(pts) == 2 and pts[0][index] > [1][index]:\n",
    "                left = [pts[1]]\n",
    "                right = [pts[0]]\n",
    "            else:\n",
    "                for p in pts:\n",
    "                    if p[index] <= middle_point[index]:\n",
    "                        left.append(p)\n",
    "                    else:\n",
    "                        right.append(p)\n",
    "                        \n",
    "        return left, right, middle_point\n",
    "    \n",
    "    def draw(self):\n",
    "        '''Draw the current state of the algorithm.'''\n",
    "        #Draw default points\n",
    "        x = [p[0] for p in self.points]\n",
    "        y = [p[1] for p in self.points]\n",
    "        plt.plot(x, y, 'o')\n",
    "        \n",
    "        #Draw current lines\n",
    "        for i in range(len(self.lines)):\n",
    "            if i%2 == 0:\n",
    "                line_x = []\n",
    "                line_y = []\n",
    "                line_x.append(self.lines[i][0])\n",
    "                line_y.append(self.lines[i][1])\n",
    "            else:\n",
    "                line_x.append(self.lines[i][0])\n",
    "                line_y.append(self.lines[i][1])\n",
    "                plt.plot(line_x, line_y)\n",
    "        plt.show()\n",
    "        \n",
    "        \n",
    "    def show(self, ns = [], positions = [1]):\n",
    "        '''\n",
    "        Shows all the leaves and the branch nodes that \n",
    "        correspond to each leaf of the tree.\n",
    "\n",
    "        Args:\n",
    "            ns (array): Remaining nodes.\n",
    "            positions (array): Current nodes.\n",
    "        '''\n",
    "        #Initialize first iteration\n",
    "        if not ns and positions == [1]:\n",
    "            if not self.nodes:\n",
    "                print(\"Error: First you have to build the tree\")\n",
    "                return\n",
    "            ns = self.nodes\n",
    "        \n",
    "        #End if it's a leaf\n",
    "        if len(ns) == 1:\n",
    "            print(f' Leaf node {positions[len(positions)-1]} = {ns[0]} -> branch {positions}')\n",
    "            return\n",
    "\n",
    "        #Recursively traverse the left branch\n",
    "        positions.append(positions[len(positions)-1] * 2)\n",
    "        self.show(ns[0], positions)\n",
    "\n",
    "        #Recursively traverse the right branch\n",
    "        positions[len(positions)-1] = positions[len(positions)-1] + 1\n",
    "        self.show(ns[1], positions)\n",
    "\n",
    "        #Back to the previous node\n",
    "        positions.pop(len(positions)-1)\n",
    "\n",
    "    "
   ]
  },
  {
   "cell_type": "code",
   "execution_count": 3,
   "metadata": {},
   "outputs": [
    {
     "data": {
      "image/png": "[encoded data removed]",
      "text/plain": [
       "<Figure size 432x288 with 1 Axes>"
      ]
     },
     "metadata": {},
     "output_type": "display_data"
    },
    {
     "data": {
      "image/png": "[encoded data removed]",
      "text/plain": [
       "<Figure size 432x288 with 1 Axes>"
      ]
     },
     "metadata": {},
     "output_type": "display_data"
    },
    {
     "data": {
      "image/png": "[encoded data removed]",
      "text/plain": [
       "<Figure size 432x288 with 1 Axes>"
      ]
     },
     "metadata": {},
     "output_type": "display_data"
    },
    {
     "data": {
      "image/png": "[encoded data removed]",
      "text/plain": [
       "<Figure size 432x288 with 1 Axes>"
      ]
     },
     "metadata": {},
     "output_type": "display_data"
    },
    {
     "data": {
      "image/png": "[encoded data removed]",
      "text/plain": [
       "<Figure size 432x288 with 1 Axes>"
      ]
     },
     "metadata": {},
     "output_type": "display_data"
    },
    {
     "data": {
      "image/png": "[encoded data removed]",
      "text/plain": [
       "<Figure size 432x288 with 1 Axes>"
      ]
     },
     "metadata": {},
     "output_type": "display_data"
    },
    {
     "name": "stdout",
     "output_type": "stream",
     "text": [
      " Leaf node 8 = (9, 4) -> branch [1, 2, 4, 8]\n",
      " Leaf node 9 = (4, 7) -> branch [1, 2, 4, 9]\n",
      " Leaf node 10 = (11, 10) -> branch [1, 2, 5, 10]\n",
      " Leaf node 11 = (7, 13) -> branch [1, 2, 5, 11]\n",
      " Leaf node 12 = (16, 10) -> branch [1, 3, 6, 12]\n",
      " Leaf node 13 = (15, 3) -> branch [1, 3, 6, 13]\n",
      " Leaf node 7 = (14, 11) -> branch [1, 3, 7]\n"
     ]
    }
   ],
   "source": [
    "q1 = (4, 7)\n",
    "q2 = (7, 13)\n",
    "q3 = (9, 4)\n",
    "q4 = (11, 10)\n",
    "q5 = (14, 11)\n",
    "q6 = (15, 3)\n",
    "q7 = (16, 10)\n",
    "\n",
    "points = [q1,q2,q3,q4,q5,q6,q7]\n",
    "kd_tree = Kd_tree(points)\n",
    "\n",
    "#Show KD-Tree\n",
    "kd_tree.kd_tree_build(True)\n",
    "\n",
    "#Show list nodes and leaves\n",
    "kd_tree.show()"
   ]
  },
  {
   "cell_type": "code",
   "execution_count": null,
   "metadata": {},
   "outputs": [],
   "source": []
  }
 ],
 "metadata": {
  "kernelspec": {
   "display_name": "Python 3",
   "language": "python",
   "name": "python3"
  },
  "language_info": {
   "codemirror_mode": {
    "name": "ipython",
    "version": 3
   },
   "file_extension": ".py",
   "mimetype": "text/x-python",
   "name": "python",
   "nbconvert_exporter": "python",
   "pygments_lexer": "ipython3",
   "version": "3.8.3"
  }
 },
 "nbformat": 4,
 "nbformat_minor": 4
}
